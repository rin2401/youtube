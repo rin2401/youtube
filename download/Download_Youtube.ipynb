{
  "cells": [
    {
      "cell_type": "markdown",
      "metadata": {
        "colab_type": "text",
        "id": "view-in-github"
      },
      "source": [
        "<a href=\"https://colab.research.google.com/github/rin2401/youtube/blob/master/download/Download_Youtube.ipynb\" target=\"_parent\"><img src=\"https://colab.research.google.com/assets/colab-badge.svg\" alt=\"Open In Colab\"/></a>"
      ]
    },
    {
      "cell_type": "markdown",
      "metadata": {
        "id": "SD69Xe1v8Tuu"
      },
      "source": [
        "https://github.com/yt-dlp/yt-dlp"
      ]
    },
    {
      "cell_type": "code",
      "execution_count": null,
      "metadata": {
        "cellView": "form",
        "colab": {
          "base_uri": "https://localhost:8080/"
        },
        "id": "EsBS800J-Poy",
        "outputId": "36e30d29-9a6c-4226-b5ca-cafb12ce96eb"
      },
      "outputs": [
        {
          "name": "stdout",
          "output_type": "stream",
          "text": [
            "Requirement already satisfied: yt-dlp[default] in /usr/local/lib/python3.10/dist-packages (2024.12.15.232913.dev0)\n",
            "Requirement already satisfied: brotli in /usr/local/lib/python3.10/dist-packages (from yt-dlp[default]) (1.1.0)\n",
            "Requirement already satisfied: certifi in /usr/local/lib/python3.10/dist-packages (from yt-dlp[default]) (2024.12.14)\n",
            "Requirement already satisfied: mutagen in /usr/local/lib/python3.10/dist-packages (from yt-dlp[default]) (1.47.0)\n",
            "Requirement already satisfied: pycryptodomex in /usr/local/lib/python3.10/dist-packages (from yt-dlp[default]) (3.21.0)\n",
            "Requirement already satisfied: requests<3,>=2.32.2 in /usr/local/lib/python3.10/dist-packages (from yt-dlp[default]) (2.32.3)\n",
            "Requirement already satisfied: urllib3<3,>=1.26.17 in /usr/local/lib/python3.10/dist-packages (from yt-dlp[default]) (2.2.3)\n",
            "Requirement already satisfied: websockets>=13.0 in /usr/local/lib/python3.10/dist-packages (from yt-dlp[default]) (14.1)\n",
            "Requirement already satisfied: charset-normalizer<4,>=2 in /usr/local/lib/python3.10/dist-packages (from requests<3,>=2.32.2->yt-dlp[default]) (3.4.0)\n",
            "Requirement already satisfied: idna<4,>=2.5 in /usr/local/lib/python3.10/dist-packages (from requests<3,>=2.32.2->yt-dlp[default]) (3.10)\n",
            "Reading package lists... Done\n",
            "Building dependency tree... Done\n",
            "Reading state information... Done\n",
            "ffmpeg is already the newest version (7:4.4.2-0ubuntu0.22.04.1).\n",
            "0 upgraded, 0 newly installed, 0 to remove and 49 not upgraded.\n",
            "/content/drive/MyDrive/Youtube\n",
            "[youtube] Extracting URL: https://www.youtube.com/watch?v=-_E4dZoVBXM\n",
            "[youtube] -_E4dZoVBXM: Downloading webpage\n",
            "[youtube] -_E4dZoVBXM: Downloading ios player API JSON\n",
            "[youtube] -_E4dZoVBXM: Downloading mweb player API JSON\n",
            "[youtube] -_E4dZoVBXM: Downloading m3u8 information\n",
            "[info] -_E4dZoVBXM: Downloading 1 format(s): 247+251\n",
            "[download] Thanh Thúy  - XUÂN CHIẾN KHU [-_E4dZoVBXM].webm has already been downloaded\n"
          ]
        }
      ],
      "source": [
        "# prompt: google colab box UI with spit\n",
        "\n",
        "import os\n",
        "# https://github.com/yt-dlp/yt-dlp\n",
        "!python3 -m pip install -U --pre \"yt-dlp[default]\"\n",
        "!apt install ffmpeg\n",
        "\n",
        "video_url = \"https://www.youtube.com/watch?v=-_E4dZoVBXM\" #@param {type:\"string\"}\n",
        "output_dir = \"/content/\" #@param {type:\"string\"}\n",
        "\n",
        "os.chdir(output_dir)\n",
        "!pwd\n",
        "!yt-dlp \"{video_url}\"\n",
        "print(\"DONE\")\n"
      ]
    }
  ],
  "metadata": {
    "colab": {
      "include_colab_link": true,
      "provenance": []
    },
    "kernelspec": {
      "display_name": "Python 3",
      "name": "python3"
    },
    "language_info": {
      "name": "python"
    }
  },
  "nbformat": 4,
  "nbformat_minor": 0
}
