{
  "cells": [
    {
      "cell_type": "markdown",
      "metadata": {
        "colab_type": "text",
        "id": "view-in-github"
      },
      "source": [
        "<a href=\"https://colab.research.google.com/github/rin2401/youtube/blob/master/download/Download_Youtube.ipynb\" target=\"_parent\"><img src=\"https://colab.research.google.com/assets/colab-badge.svg\" alt=\"Open In Colab\"/></a>"
      ]
    },
    {
      "cell_type": "code",
      "execution_count": null,
      "metadata": {
        "cellView": "form",
        "colab": {
          "base_uri": "https://localhost:8080/"
        },
        "id": "EsBS800J-Poy",
        "outputId": "36e30d29-9a6c-4226-b5ca-cafb12ce96eb"
      },
      "outputs": [],
      "source": [
        "# https://github.com/yt-dlp/yt-dlp\n",
        "!python3 -m pip install -U --pre \"yt-dlp[default]\"\n",
        "!apt install ffmpeg\n",
        "\n",
        "import os\n",
        "from google.colab import files\n",
        "import yt_dlp\n",
        "\n",
        "video_url = \"https://www.youtube.com/watch?v=DGAxrRHrxJE\" #@param {type:\"string\"}\n",
        "output_dir = \"/content/\" #@param {type:\"string\"}\n",
        "\n",
        "os.chdir(output_dir)\n",
        "\n",
        "yt_opts = {\n",
        "    'verbose': True,\n",
        "}\n",
        "\n",
        "ydl = yt_dlp.YoutubeDL(yt_opts)\n",
        "info = ydl.extract_info(video_url)\n",
        "filepath = info[\"requested_downloads\"][0][\"filepath\"]\n",
        "files.download(filepath)"
      ]
    }
  ],
  "metadata": {
    "colab": {
      "include_colab_link": true,
      "provenance": []
    },
    "kernelspec": {
      "display_name": "Python 3",
      "name": "python3"
    },
    "language_info": {
      "name": "python"
    }
  },
  "nbformat": 4,
  "nbformat_minor": 0
}
